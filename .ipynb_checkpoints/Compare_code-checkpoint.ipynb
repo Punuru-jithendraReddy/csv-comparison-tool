{
 "cells": [
  {
   "cell_type": "code",
   "execution_count": 1,
   "id": "e9fed9c9-6f98-4e7e-8a66-7df1df5fcffe",
   "metadata": {},
   "outputs": [],
   "source": [
    "import pandas as pd\n",
    "import numpy as np\n",
    "import os\n",
    "import openpyxl"
   ]
  },
  {
   "cell_type": "code",
   "execution_count": 2,
   "id": "5ee9329c-14ef-4861-b29d-d7742c6377d4",
   "metadata": {},
   "outputs": [],
   "source": [
    "def get_file_name(file_path):\n",
    "    # Use os.path.basename to get the file name from the file path\n",
    "    file_name = os.path.basename(file_path)\n",
    "    return file_name"
   ]
  },
  {
   "cell_type": "code",
   "execution_count": 3,
   "id": "7d104abd-0fd6-4294-8680-5e44729548bf",
   "metadata": {},
   "outputs": [],
   "source": [
    "def Name(f_name):\n",
    "    Name = f_name.split(\"_\")\n",
    "    Name.pop()  # Remove the last part\n",
    "    Name.append(\"Result\")\n",
    "    File_Name = \"_\".join(Name) + \".xlsx\"\n",
    "    Title = \"_\".join(Name)\n",
    "    return File_Name, Title"
   ]
  },
  {
   "cell_type": "code",
   "execution_count": 4,
   "id": "e66e258c-1d45-44b8-aa08-8916f8651f57",
   "metadata": {},
   "outputs": [],
   "source": [
    "def Sheet_1(source_File, Target_File):\n",
    "    # Comparing two Files Source and Target column by column\n",
    "    df1 = pd.read_csv(source_File)\n",
    "    df2 = pd.read_csv(Target_File)\n",
    "\n",
    "    f_name = get_file_name(source_File)\n",
    "    Names = Name(f_name)\n",
    "    File_Name = Names[0]\n",
    "    Title = Names[1]\n",
    "\n",
    "    Headdings = df1.columns.intersection(df2.columns)\n",
    "    if len(Headdings) < 1:\n",
    "        df_empty = pd.DataFrame()\n",
    "        df_empty[\"There are no common columns between two files\"] = \"\"\n",
    "        return df_empty\n",
    "    else:\n",
    "        subheaddings = \"Source,Target,Result\".split(',')\n",
    "\n",
    "        df_new = pd.DataFrame()\n",
    "        length = len(Headdings)\n",
    "        df_temp = pd.DataFrame()\n",
    "\n",
    "        for i in range(length):\n",
    "            df_temp[\"Source\"] = df1.iloc[:, i]\n",
    "            df_temp[\"Target\"] = df2.iloc[:, i]\n",
    "            df_temp[\"Result\"] = (df1.iloc[:, i] == df2.iloc[:, i]).astype(str).apply(str.upper)\n",
    "            df_temp[\"Result\"] = ((df1.iloc[:, i].isnull() & df2.iloc[:, i].isnull()) | (df1.iloc[:, i] == df2.iloc[:, i])).astype(str).apply(str.upper)\n",
    "            df_new = pd.concat([df_new, df_temp], axis=1, ignore_index=True)\n",
    "\n",
    "        df_new.columns = pd.MultiIndex.from_product([[Title], Headdings, subheaddings])\n",
    "        df_new.dropna(how='all', inplace=True)\n",
    "    \n",
    "    return df_new"
   ]
  },
  {
   "cell_type": "code",
   "execution_count": 5,
   "id": "534ea563-e8c1-4768-80a8-f2a7125f5fc8",
   "metadata": {},
   "outputs": [],
   "source": [
    "def Sheet_2(source_File, Target_File):\n",
    "    # Check whether the columns of both target and source are the same\n",
    "    df1 = pd.read_csv(source_File)\n",
    "    df2 = pd.read_csv(Target_File)\n",
    "    \n",
    "    Hs = list(df1.columns)\n",
    "    Ht = list(df2.columns)\n",
    "    \n",
    "    Headdings = \"Source,Target\".split(',')\n",
    "    subheaddings = \"Columns,Data_type\".split(',')\n",
    "    \n",
    "    Hsdt = [str(df1[col].dtype) if col in df1.columns else \"Nan\" for col in Hs]\n",
    "    Htdt = [str(df2[col].dtype) if col in df2.columns else \"Nan\" for col in Ht]\n",
    "    \n",
    "    if len(Hs) < len(Ht):\n",
    "        for _ in range(len(Ht) - len(Hs)):\n",
    "            Hs.append(\"Nan\")\n",
    "            Hsdt.append(\"Nan\")\n",
    "    elif len(Hs) > len(Ht):\n",
    "        for _ in range(len(Hs) - len(Ht)):\n",
    "            Ht.append(\"Nan\")\n",
    "            Htdt.append(\"Nan\")\n",
    "    \n",
    "    s2 = pd.DataFrame({'SColumns': Hs, 'Sdtype': Hsdt, 'TColumns': Ht, 'Tdtype': Htdt})\n",
    "    s2.columns = pd.MultiIndex.from_product([Headdings, subheaddings])\n",
    "    \n",
    "    return s2\n",
    "\n",
    "def Sheet_3(source_File, Target_File):\n",
    "    # Count, mean, std, min, max, 25%, 50%\n",
    "    df_1 = pd.read_csv(source_File)\n",
    "    df_2 = pd.read_csv(Target_File)\n",
    "    \n",
    "    df1 = df_1.describe()\n",
    "    df1.columns = pd.MultiIndex.from_product([[\"Source\"], list(df1.columns)])\n",
    "    df2 = df_2.describe()\n",
    "    df2.columns = pd.MultiIndex.from_product([[\"Target\"], list(df2.columns)])\n",
    "\n",
    "    df_new = pd.concat([df1, df2], axis=1)\n",
    "    \n",
    "    return df_new"
   ]
  },
  {
   "cell_type": "code",
   "execution_count": 6,
   "id": "527e1a48-21f5-4cd2-842b-de9dba30016a",
   "metadata": {},
   "outputs": [],
   "source": [
    "def Create_file(source_File, Target_File):\n",
    "    df_S1 = Sheet_1(source_File, Target_File)\n",
    "    df_S2 = Sheet_2(source_File, Target_File)\n",
    "    df_S3 = Sheet_3(source_File, Target_File)\n",
    "    \n",
    "    f_name = get_file_name(source_File)\n",
    "    Names = Name(f_name)\n",
    "    File_Name = Names[0]\n",
    "    \n",
    "    with pd.ExcelWriter(File_Name, engine='openpyxl') as writer:\n",
    "        df_S1.to_excel(writer, sheet_name='Sheet1')\n",
    "        df_S2.to_excel(writer, sheet_name='Sheet2')\n",
    "        df_S3.to_excel(writer, sheet_name='Sheet3')\n",
    "\n",
    "    print(\"\\nThe source and target files have been successfully compared.\\n\")"
   ]
  },
  {
   "cell_type": "code",
   "execution_count": 7,
   "id": "421da20b-3296-4685-8ff3-ce70e6f899d4",
   "metadata": {},
   "outputs": [
    {
     "name": "stdin",
     "output_type": "stream",
     "text": [
      "Enter the Name/Path of the Source File:  sample files/My_Customers_Source.csv\n",
      "Enter the Name/Path of the Target File:  sample files/My_Customers_Target.csv\n"
     ]
    },
    {
     "name": "stdout",
     "output_type": "stream",
     "text": [
      "\n",
      "The source and target files have been successfully compared.\n",
      "\n"
     ]
    }
   ],
   "source": [
    "if __name__ == \"__main__\":\n",
    "    source_File = input(\"Enter the Name/Path of the Source File: \")\n",
    "    Target_File = input(\"Enter the Name/Path of the Target File: \")\n",
    "    Create_file(source_File, Target_File)"
   ]
  }
 ],
 "metadata": {
  "kernelspec": {
   "display_name": "Python 3 (ipykernel)",
   "language": "python",
   "name": "python3"
  },
  "language_info": {
   "codemirror_mode": {
    "name": "ipython",
    "version": 3
   },
   "file_extension": ".py",
   "mimetype": "text/x-python",
   "name": "python",
   "nbconvert_exporter": "python",
   "pygments_lexer": "ipython3",
   "version": "3.10.13"
  }
 },
 "nbformat": 4,
 "nbformat_minor": 5
}
